{
  "cells": [
    {
      "cell_type": "markdown",
      "metadata": {
        "id": "view-in-github",
        "colab_type": "text"
      },
      "source": [
        "<a href=\"https://colab.research.google.com/github/andreacohen7/digit-classification/blob/main/Digit_Classification_2.ipynb\" target=\"_parent\"><img src=\"https://colab.research.google.com/assets/colab-badge.svg\" alt=\"Open In Colab\"/></a>"
      ]
    },
    {
      "cell_type": "markdown",
      "metadata": {
        "id": "8Q4Qv7hWFNGB"
      },
      "source": [
        "# Digit Classification\n",
        "- Andrea Cohen\n",
        "- 01.30.23"
      ]
    },
    {
      "cell_type": "markdown",
      "metadata": {
        "id": "pCI3GqjAFTUt"
      },
      "source": [
        "## Task:\n",
        "  - to perform PCA to speed up a classification algorithm on a high-dimensional dataset\n",
        "  - to answer the following questions:\n",
        "    - Which model performed the best on the test set?\n",
        "    - Which model was the fastest at making predictions?"
      ]
    },
    {
      "cell_type": "markdown",
      "metadata": {
        "id": "QQcUJMO3GAzo"
      },
      "source": [
        "## Data Source:\n",
        "  - https://en.wikipedia.org/wiki/MNIST_database"
      ]
    },
    {
      "cell_type": "markdown",
      "metadata": {
        "id": "mD3F_53EGiWj"
      },
      "source": [
        "## Load the Data"
      ]
    },
    {
      "cell_type": "code",
      "execution_count": 1,
      "metadata": {
        "id": "FRckdkG4HCdh"
      },
      "outputs": [],
      "source": [
        "#import libraries\n",
        "import numpy as np\n",
        "import matplotlib.pyplot as plt\n",
        "import pandas as pd\n",
        "from sklearn.datasets import fetch_openml\n",
        "from sklearn.preprocessing import StandardScaler\n",
        "from sklearn.pipeline import make_pipeline\n",
        "from sklearn.model_selection import train_test_split, GridSearchCV\n",
        "from sklearn.neighbors import KNeighborsClassifier\n",
        "from sklearn.decomposition import PCA\n",
        "from sklearn.metrics import classification_report\n",
        "from sklearn import set_config\n",
        "set_config(display='diagram')"
      ]
    },
    {
      "cell_type": "code",
      "execution_count": 2,
      "metadata": {
        "colab": {
          "base_uri": "https://localhost:8080/"
        },
        "id": "VJfeW1mUHzpJ",
        "outputId": "bd019872-fe53-4f0d-a6e9-10bc883b4544"
      },
      "outputs": [
        {
          "output_type": "execute_result",
          "data": {
            "text/plain": [
              "(70000, 784)"
            ]
          },
          "metadata": {},
          "execution_count": 2
        }
      ],
      "source": [
        "#load the data\n",
        "mnist = fetch_openml('mnist_784')\n",
        "# view the shape of the dataset\n",
        "mnist.data.shape"
      ]
    },
    {
      "cell_type": "markdown",
      "metadata": {
        "id": "hsHMLu00Ijx5"
      },
      "source": [
        "  - There are 70000 rows (images) and 784 columns (dimensions)."
      ]
    },
    {
      "cell_type": "markdown",
      "metadata": {
        "id": "GbO_IhaRLJZF"
      },
      "source": [
        "### Access the X data and the target"
      ]
    },
    {
      "cell_type": "code",
      "execution_count": 3,
      "metadata": {
        "id": "dAbvDeBVKpjG"
      },
      "outputs": [],
      "source": [
        "X = pd.DataFrame(mnist.data)\n",
        "y = np.array(mnist.target)"
      ]
    },
    {
      "cell_type": "markdown",
      "metadata": {
        "id": "bbRfXWMgK-M-"
      },
      "source": [
        "### Inspect the data"
      ]
    },
    {
      "cell_type": "code",
      "execution_count": 4,
      "metadata": {
        "colab": {
          "base_uri": "https://localhost:8080/"
        },
        "id": "hmh6tqkCLTVE",
        "outputId": "d68a9102-0111-4db4-a402-2350c11e64d9"
      },
      "outputs": [
        {
          "output_type": "execute_result",
          "data": {
            "text/plain": [
              "0"
            ]
          },
          "metadata": {},
          "execution_count": 4
        }
      ],
      "source": [
        "# check for duplicated rows\n",
        "X.duplicated().sum()"
      ]
    },
    {
      "cell_type": "markdown",
      "metadata": {
        "id": "s0csBGANNGiO"
      },
      "source": [
        "  - There are 0 duplicates."
      ]
    },
    {
      "cell_type": "code",
      "execution_count": 5,
      "metadata": {
        "colab": {
          "base_uri": "https://localhost:8080/"
        },
        "id": "ts31SikwNJnq",
        "outputId": "12caace3-9920-4fd7-9bb7-580ee223946d"
      },
      "outputs": [
        {
          "output_type": "execute_result",
          "data": {
            "text/plain": [
              "0"
            ]
          },
          "metadata": {},
          "execution_count": 5
        }
      ],
      "source": [
        "# check for missing values\n",
        "X.isna().sum().sum()"
      ]
    },
    {
      "cell_type": "markdown",
      "metadata": {
        "id": "ZpvuwJ8GNOTn"
      },
      "source": [
        "  - There are 0 missing values."
      ]
    },
    {
      "cell_type": "markdown",
      "metadata": {
        "id": "sWD9NGGXGkTS"
      },
      "source": [
        "## Prepare the Data"
      ]
    },
    {
      "cell_type": "markdown",
      "metadata": {
        "id": "Hs_roZrSOfEm"
      },
      "source": [
        "### Split the data into training and testing sets"
      ]
    },
    {
      "cell_type": "code",
      "execution_count": 6,
      "metadata": {
        "id": "5NXb7t-uOdH2"
      },
      "outputs": [],
      "source": [
        "X_train, X_test, y_train, y_test = train_test_split(X, y, random_state = 42)"
      ]
    },
    {
      "cell_type": "markdown",
      "metadata": {
        "id": "WBPjkE3OO1Gv"
      },
      "source": [
        "### Scale the data and apply PCA to the data, while retaining 95% of the variance, using a pipeline"
      ]
    },
    {
      "cell_type": "code",
      "execution_count": 7,
      "metadata": {
        "id": "Cd0qKSGmPKBj"
      },
      "outputs": [],
      "source": [
        "scaler = StandardScaler()\n",
        "pca = PCA(n_components = .95, random_state = 42)\n",
        "transformer = make_pipeline(scaler, pca)"
      ]
    },
    {
      "cell_type": "markdown",
      "metadata": {
        "id": "tCGHYe0JGnkJ"
      },
      "source": [
        "## KNN Model using the PCA-transformed data to predict which number each image shows"
      ]
    },
    {
      "cell_type": "markdown",
      "metadata": {
        "id": "zY7QciOkh939"
      },
      "source": [
        "### KNN with default parameters"
      ]
    },
    {
      "cell_type": "code",
      "execution_count": 8,
      "metadata": {
        "colab": {
          "base_uri": "https://localhost:8080/"
        },
        "id": "4K7fQzT8Q181",
        "outputId": "d2a288bb-d502-4052-fa45-2e332685ff15"
      },
      "outputs": [
        {
          "output_type": "stream",
          "name": "stdout",
          "text": [
            "CPU times: user 1min 6s, sys: 6.42 s, total: 1min 13s\n",
            "Wall time: 51 s\n"
          ]
        }
      ],
      "source": [
        "%%time\n",
        "#put the PCA pipeline in another pipeline with a KNN Classifier\n",
        "#create a modeling pipeline\n",
        "knn_pca_pipe = make_pipeline(transformer, KNeighborsClassifier())\n",
        "knn_pca_pipe.fit(X_train, y_train)\n",
        "#make predictions\n",
        "knn_pca_pipe_predictions = knn_pca_pipe.predict(X_test)"
      ]
    },
    {
      "cell_type": "markdown",
      "metadata": {
        "id": "1e_CxcUeiEO_"
      },
      "source": [
        "### Tuning hyperparameters using GridSearchCV and pipelines"
      ]
    },
    {
      "cell_type": "markdown",
      "metadata": {
        "id": "_TrdQ_Q0iK6D"
      },
      "source": [
        "#### Choose parameters for tuning"
      ]
    },
    {
      "cell_type": "code",
      "execution_count": 9,
      "metadata": {
        "colab": {
          "base_uri": "https://localhost:8080/"
        },
        "id": "LaBXV6KAiKku",
        "outputId": "dcfc19ff-8f4d-4e13-8d8c-300236745e3c"
      },
      "outputs": [
        {
          "output_type": "execute_result",
          "data": {
            "text/plain": [
              "{'memory': None,\n",
              " 'steps': [('pipeline', Pipeline(steps=[('standardscaler', StandardScaler()),\n",
              "                   ('pca', PCA(n_components=0.95, random_state=42))])),\n",
              "  ('kneighborsclassifier', KNeighborsClassifier())],\n",
              " 'verbose': False,\n",
              " 'pipeline': Pipeline(steps=[('standardscaler', StandardScaler()),\n",
              "                 ('pca', PCA(n_components=0.95, random_state=42))]),\n",
              " 'kneighborsclassifier': KNeighborsClassifier(),\n",
              " 'pipeline__memory': None,\n",
              " 'pipeline__steps': [('standardscaler', StandardScaler()),\n",
              "  ('pca', PCA(n_components=0.95, random_state=42))],\n",
              " 'pipeline__verbose': False,\n",
              " 'pipeline__standardscaler': StandardScaler(),\n",
              " 'pipeline__pca': PCA(n_components=0.95, random_state=42),\n",
              " 'pipeline__standardscaler__copy': True,\n",
              " 'pipeline__standardscaler__with_mean': True,\n",
              " 'pipeline__standardscaler__with_std': True,\n",
              " 'pipeline__pca__copy': True,\n",
              " 'pipeline__pca__iterated_power': 'auto',\n",
              " 'pipeline__pca__n_components': 0.95,\n",
              " 'pipeline__pca__random_state': 42,\n",
              " 'pipeline__pca__svd_solver': 'auto',\n",
              " 'pipeline__pca__tol': 0.0,\n",
              " 'pipeline__pca__whiten': False,\n",
              " 'kneighborsclassifier__algorithm': 'auto',\n",
              " 'kneighborsclassifier__leaf_size': 30,\n",
              " 'kneighborsclassifier__metric': 'minkowski',\n",
              " 'kneighborsclassifier__metric_params': None,\n",
              " 'kneighborsclassifier__n_jobs': None,\n",
              " 'kneighborsclassifier__n_neighbors': 5,\n",
              " 'kneighborsclassifier__p': 2,\n",
              " 'kneighborsclassifier__weights': 'uniform'}"
            ]
          },
          "metadata": {},
          "execution_count": 9
        }
      ],
      "source": [
        "knn_pca_pipe.get_params()"
      ]
    },
    {
      "cell_type": "markdown",
      "metadata": {
        "id": "iY0-N0qfiemM"
      },
      "source": [
        "#### Create a parameter grid dictionary"
      ]
    },
    {
      "cell_type": "code",
      "execution_count": 10,
      "metadata": {
        "id": "yOXhsXk_ilnr"
      },
      "outputs": [],
      "source": [
        "pipe_param_grid1 = {'kneighborsclassifier__n_neighbors': [1, 3, 5, 7],\n",
        "              'kneighborsclassifier__weights': ['distance', 'uniform']}"
      ]
    },
    {
      "cell_type": "markdown",
      "metadata": {
        "id": "DWVNQB0sjJdu"
      },
      "source": [
        "#### Instantiate the GridSearchCV Class."
      ]
    },
    {
      "cell_type": "code",
      "execution_count": 11,
      "metadata": {
        "id": "DUmYHLcUjKz6"
      },
      "outputs": [],
      "source": [
        "knn_pca_pipe_gs = GridSearchCV(knn_pca_pipe, pipe_param_grid1)"
      ]
    },
    {
      "cell_type": "markdown",
      "metadata": {
        "id": "uV09wq4tj9N8"
      },
      "source": [
        "#### Fit the GridSearchCV on the Training Data."
      ]
    },
    {
      "cell_type": "code",
      "execution_count": 12,
      "metadata": {
        "colab": {
          "base_uri": "https://localhost:8080/",
          "height": 223
        },
        "id": "r3TLMfgZkfxA",
        "outputId": "5b084616-bf2c-4055-e7dd-8b1ef124ec92"
      },
      "outputs": [
        {
          "output_type": "stream",
          "name": "stdout",
          "text": [
            "CPU times: user 23min 55s, sys: 2min 22s, total: 26min 18s\n",
            "Wall time: 17min 15s\n"
          ]
        },
        {
          "output_type": "execute_result",
          "data": {
            "text/plain": [
              "GridSearchCV(estimator=Pipeline(steps=[('pipeline',\n",
              "                                        Pipeline(steps=[('standardscaler',\n",
              "                                                         StandardScaler()),\n",
              "                                                        ('pca',\n",
              "                                                         PCA(n_components=0.95,\n",
              "                                                             random_state=42))])),\n",
              "                                       ('kneighborsclassifier',\n",
              "                                        KNeighborsClassifier())]),\n",
              "             param_grid={'kneighborsclassifier__n_neighbors': [1, 3, 5, 7],\n",
              "                         'kneighborsclassifier__weights': ['distance',\n",
              "                                                           'uniform']})"
            ],
            "text/html": [
              "<style>#sk-1fd594df-db6e-4870-a2ef-e527c96c369c {color: black;background-color: white;}#sk-1fd594df-db6e-4870-a2ef-e527c96c369c pre{padding: 0;}#sk-1fd594df-db6e-4870-a2ef-e527c96c369c div.sk-toggleable {background-color: white;}#sk-1fd594df-db6e-4870-a2ef-e527c96c369c label.sk-toggleable__label {cursor: pointer;display: block;width: 100%;margin-bottom: 0;padding: 0.3em;box-sizing: border-box;text-align: center;}#sk-1fd594df-db6e-4870-a2ef-e527c96c369c label.sk-toggleable__label-arrow:before {content: \"▸\";float: left;margin-right: 0.25em;color: #696969;}#sk-1fd594df-db6e-4870-a2ef-e527c96c369c label.sk-toggleable__label-arrow:hover:before {color: black;}#sk-1fd594df-db6e-4870-a2ef-e527c96c369c div.sk-estimator:hover label.sk-toggleable__label-arrow:before {color: black;}#sk-1fd594df-db6e-4870-a2ef-e527c96c369c div.sk-toggleable__content {max-height: 0;max-width: 0;overflow: hidden;text-align: left;background-color: #f0f8ff;}#sk-1fd594df-db6e-4870-a2ef-e527c96c369c div.sk-toggleable__content pre {margin: 0.2em;color: black;border-radius: 0.25em;background-color: #f0f8ff;}#sk-1fd594df-db6e-4870-a2ef-e527c96c369c input.sk-toggleable__control:checked~div.sk-toggleable__content {max-height: 200px;max-width: 100%;overflow: auto;}#sk-1fd594df-db6e-4870-a2ef-e527c96c369c input.sk-toggleable__control:checked~label.sk-toggleable__label-arrow:before {content: \"▾\";}#sk-1fd594df-db6e-4870-a2ef-e527c96c369c div.sk-estimator input.sk-toggleable__control:checked~label.sk-toggleable__label {background-color: #d4ebff;}#sk-1fd594df-db6e-4870-a2ef-e527c96c369c div.sk-label input.sk-toggleable__control:checked~label.sk-toggleable__label {background-color: #d4ebff;}#sk-1fd594df-db6e-4870-a2ef-e527c96c369c input.sk-hidden--visually {border: 0;clip: rect(1px 1px 1px 1px);clip: rect(1px, 1px, 1px, 1px);height: 1px;margin: -1px;overflow: hidden;padding: 0;position: absolute;width: 1px;}#sk-1fd594df-db6e-4870-a2ef-e527c96c369c div.sk-estimator {font-family: monospace;background-color: #f0f8ff;border: 1px dotted black;border-radius: 0.25em;box-sizing: border-box;margin-bottom: 0.5em;}#sk-1fd594df-db6e-4870-a2ef-e527c96c369c div.sk-estimator:hover {background-color: #d4ebff;}#sk-1fd594df-db6e-4870-a2ef-e527c96c369c div.sk-parallel-item::after {content: \"\";width: 100%;border-bottom: 1px solid gray;flex-grow: 1;}#sk-1fd594df-db6e-4870-a2ef-e527c96c369c div.sk-label:hover label.sk-toggleable__label {background-color: #d4ebff;}#sk-1fd594df-db6e-4870-a2ef-e527c96c369c div.sk-serial::before {content: \"\";position: absolute;border-left: 1px solid gray;box-sizing: border-box;top: 2em;bottom: 0;left: 50%;}#sk-1fd594df-db6e-4870-a2ef-e527c96c369c div.sk-serial {display: flex;flex-direction: column;align-items: center;background-color: white;padding-right: 0.2em;padding-left: 0.2em;}#sk-1fd594df-db6e-4870-a2ef-e527c96c369c div.sk-item {z-index: 1;}#sk-1fd594df-db6e-4870-a2ef-e527c96c369c div.sk-parallel {display: flex;align-items: stretch;justify-content: center;background-color: white;}#sk-1fd594df-db6e-4870-a2ef-e527c96c369c div.sk-parallel::before {content: \"\";position: absolute;border-left: 1px solid gray;box-sizing: border-box;top: 2em;bottom: 0;left: 50%;}#sk-1fd594df-db6e-4870-a2ef-e527c96c369c div.sk-parallel-item {display: flex;flex-direction: column;position: relative;background-color: white;}#sk-1fd594df-db6e-4870-a2ef-e527c96c369c div.sk-parallel-item:first-child::after {align-self: flex-end;width: 50%;}#sk-1fd594df-db6e-4870-a2ef-e527c96c369c div.sk-parallel-item:last-child::after {align-self: flex-start;width: 50%;}#sk-1fd594df-db6e-4870-a2ef-e527c96c369c div.sk-parallel-item:only-child::after {width: 0;}#sk-1fd594df-db6e-4870-a2ef-e527c96c369c div.sk-dashed-wrapped {border: 1px dashed gray;margin: 0 0.4em 0.5em 0.4em;box-sizing: border-box;padding-bottom: 0.4em;background-color: white;position: relative;}#sk-1fd594df-db6e-4870-a2ef-e527c96c369c div.sk-label label {font-family: monospace;font-weight: bold;background-color: white;display: inline-block;line-height: 1.2em;}#sk-1fd594df-db6e-4870-a2ef-e527c96c369c div.sk-label-container {position: relative;z-index: 2;text-align: center;}#sk-1fd594df-db6e-4870-a2ef-e527c96c369c div.sk-container {/* jupyter's `normalize.less` sets `[hidden] { display: none; }` but bootstrap.min.css set `[hidden] { display: none !important; }` so we also need the `!important` here to be able to override the default hidden behavior on the sphinx rendered scikit-learn.org. See: https://github.com/scikit-learn/scikit-learn/issues/21755 */display: inline-block !important;position: relative;}#sk-1fd594df-db6e-4870-a2ef-e527c96c369c div.sk-text-repr-fallback {display: none;}</style><div id=\"sk-1fd594df-db6e-4870-a2ef-e527c96c369c\" class=\"sk-top-container\"><div class=\"sk-text-repr-fallback\"><pre>GridSearchCV(estimator=Pipeline(steps=[(&#x27;pipeline&#x27;,\n",
              "                                        Pipeline(steps=[(&#x27;standardscaler&#x27;,\n",
              "                                                         StandardScaler()),\n",
              "                                                        (&#x27;pca&#x27;,\n",
              "                                                         PCA(n_components=0.95,\n",
              "                                                             random_state=42))])),\n",
              "                                       (&#x27;kneighborsclassifier&#x27;,\n",
              "                                        KNeighborsClassifier())]),\n",
              "             param_grid={&#x27;kneighborsclassifier__n_neighbors&#x27;: [1, 3, 5, 7],\n",
              "                         &#x27;kneighborsclassifier__weights&#x27;: [&#x27;distance&#x27;,\n",
              "                                                           &#x27;uniform&#x27;]})</pre><b>Please rerun this cell to show the HTML repr or trust the notebook.</b></div><div class=\"sk-container\" hidden><div class=\"sk-item sk-dashed-wrapped\"><div class=\"sk-label-container\"><div class=\"sk-label sk-toggleable\"><input class=\"sk-toggleable__control sk-hidden--visually\" id=\"ba409ca8-a467-4c34-8d3d-a9029febf192\" type=\"checkbox\" ><label for=\"ba409ca8-a467-4c34-8d3d-a9029febf192\" class=\"sk-toggleable__label sk-toggleable__label-arrow\">GridSearchCV</label><div class=\"sk-toggleable__content\"><pre>GridSearchCV(estimator=Pipeline(steps=[(&#x27;pipeline&#x27;,\n",
              "                                        Pipeline(steps=[(&#x27;standardscaler&#x27;,\n",
              "                                                         StandardScaler()),\n",
              "                                                        (&#x27;pca&#x27;,\n",
              "                                                         PCA(n_components=0.95,\n",
              "                                                             random_state=42))])),\n",
              "                                       (&#x27;kneighborsclassifier&#x27;,\n",
              "                                        KNeighborsClassifier())]),\n",
              "             param_grid={&#x27;kneighborsclassifier__n_neighbors&#x27;: [1, 3, 5, 7],\n",
              "                         &#x27;kneighborsclassifier__weights&#x27;: [&#x27;distance&#x27;,\n",
              "                                                           &#x27;uniform&#x27;]})</pre></div></div></div><div class=\"sk-parallel\"><div class=\"sk-parallel-item\"><div class=\"sk-item\"><div class=\"sk-serial\"><div class=\"sk-item\"><div class=\"sk-serial\"><div class=\"sk-item\"><div class=\"sk-label-container\"><div class=\"sk-label sk-toggleable\"><input class=\"sk-toggleable__control sk-hidden--visually\" id=\"975c5467-9b7c-4bef-ba1e-f711e7705014\" type=\"checkbox\" ><label for=\"975c5467-9b7c-4bef-ba1e-f711e7705014\" class=\"sk-toggleable__label sk-toggleable__label-arrow\">pipeline: Pipeline</label><div class=\"sk-toggleable__content\"><pre>Pipeline(steps=[(&#x27;standardscaler&#x27;, StandardScaler()),\n",
              "                (&#x27;pca&#x27;, PCA(n_components=0.95, random_state=42))])</pre></div></div></div><div class=\"sk-serial\"><div class=\"sk-item\"><div class=\"sk-estimator sk-toggleable\"><input class=\"sk-toggleable__control sk-hidden--visually\" id=\"9fdb0a83-f135-4088-aaf6-e3450acdb4d6\" type=\"checkbox\" ><label for=\"9fdb0a83-f135-4088-aaf6-e3450acdb4d6\" class=\"sk-toggleable__label sk-toggleable__label-arrow\">StandardScaler</label><div class=\"sk-toggleable__content\"><pre>StandardScaler()</pre></div></div></div><div class=\"sk-item\"><div class=\"sk-estimator sk-toggleable\"><input class=\"sk-toggleable__control sk-hidden--visually\" id=\"5be1939f-7411-42e4-9e44-eec944f25293\" type=\"checkbox\" ><label for=\"5be1939f-7411-42e4-9e44-eec944f25293\" class=\"sk-toggleable__label sk-toggleable__label-arrow\">PCA</label><div class=\"sk-toggleable__content\"><pre>PCA(n_components=0.95, random_state=42)</pre></div></div></div></div></div><div class=\"sk-item\"><div class=\"sk-estimator sk-toggleable\"><input class=\"sk-toggleable__control sk-hidden--visually\" id=\"c4f3e19d-00ce-459c-aa6e-97139a7e2520\" type=\"checkbox\" ><label for=\"c4f3e19d-00ce-459c-aa6e-97139a7e2520\" class=\"sk-toggleable__label sk-toggleable__label-arrow\">KNeighborsClassifier</label><div class=\"sk-toggleable__content\"><pre>KNeighborsClassifier()</pre></div></div></div></div></div></div></div></div></div></div></div></div>"
            ]
          },
          "metadata": {},
          "execution_count": 12
        }
      ],
      "source": [
        "%%time\n",
        "knn_pca_pipe_gs.fit(X_train, y_train)"
      ]
    },
    {
      "cell_type": "markdown",
      "metadata": {
        "id": "6plFzTZokkwS"
      },
      "source": [
        "#### Find the best parameters"
      ]
    },
    {
      "cell_type": "code",
      "execution_count": 13,
      "metadata": {
        "colab": {
          "base_uri": "https://localhost:8080/"
        },
        "id": "y2DyPotlkpDi",
        "outputId": "c8915666-f81d-4276-d956-7822abb9d863"
      },
      "outputs": [
        {
          "output_type": "stream",
          "name": "stdout",
          "text": [
            "Best KNN-PCA Parameters:\n",
            "{'kneighborsclassifier__n_neighbors': 3, 'kneighborsclassifier__weights': 'distance'}\n",
            "Accuracy of best KNN-PCa model is: 0.9502285714285714\n"
          ]
        }
      ],
      "source": [
        "print('Best KNN-PCA Parameters:')\n",
        "print(knn_pca_pipe_gs.best_params_)\n",
        "best_knn_pca_pipe = knn_pca_pipe_gs.best_estimator_\n",
        "print(f'Accuracy of best KNN-PCa model is: {best_knn_pca_pipe.score(X_test, y_test)}')"
      ]
    },
    {
      "cell_type": "markdown",
      "metadata": {
        "id": "CyW9hXSclTHf"
      },
      "source": [
        "### Final tuned KNN Model using PCA-transformed data"
      ]
    },
    {
      "cell_type": "code",
      "execution_count": 14,
      "metadata": {
        "id": "lqA763bNleHI",
        "colab": {
          "base_uri": "https://localhost:8080/"
        },
        "outputId": "8b896ec7-9bc3-4b39-9df3-71bc0a86c47b"
      },
      "outputs": [
        {
          "output_type": "stream",
          "name": "stdout",
          "text": [
            "CPU times: user 1min 26s, sys: 5.93 s, total: 1min 32s\n",
            "Wall time: 58.6 s\n"
          ]
        }
      ],
      "source": [
        "%%time\n",
        "knn_pca_tuned = KNeighborsClassifier(n_neighbors = 3, weights = 'distance')\n",
        "knn_pca_tuned_pipe = make_pipeline(scaler, knn_pca_tuned)\n",
        "knn_pca_tuned_pipe.fit(X_train, y_train)\n",
        "test_preds_knn_pca_tuned = knn_pca_tuned_pipe.predict(X_test)"
      ]
    },
    {
      "cell_type": "markdown",
      "metadata": {
        "id": "jPL0oV7BQirg"
      },
      "source": [
        "## KNN Model using the original data, without the PCA transformation"
      ]
    },
    {
      "cell_type": "code",
      "execution_count": 15,
      "metadata": {
        "id": "4_MzGaqQSOtH",
        "colab": {
          "base_uri": "https://localhost:8080/"
        },
        "outputId": "9c72b263-e208-4397-d3d2-a0623500ad9c"
      },
      "outputs": [
        {
          "output_type": "stream",
          "name": "stdout",
          "text": [
            "CPU times: user 1min 33s, sys: 5.5 s, total: 1min 38s\n",
            "Wall time: 1min 4s\n"
          ]
        }
      ],
      "source": [
        "%%time\n",
        "#create a modeling pipeline\n",
        "knn_orig_pipe = make_pipeline(scaler, KNeighborsClassifier())\n",
        "knn_orig_pipe.fit(X_train, y_train)\n",
        "#make predictions\n",
        "knn_orig_pipe_predictions = knn_orig_pipe.predict(X_test)"
      ]
    },
    {
      "cell_type": "markdown",
      "metadata": {
        "id": "bqnTn2m-l7jB"
      },
      "source": [
        "### Tuning hyperparameters using GridSearchCV and pipelines"
      ]
    },
    {
      "cell_type": "markdown",
      "metadata": {
        "id": "5SGjrmpVmL18"
      },
      "source": [
        "#### Choose parameters for tuning"
      ]
    },
    {
      "cell_type": "code",
      "execution_count": 16,
      "metadata": {
        "id": "LpIiHFoFmJP0",
        "colab": {
          "base_uri": "https://localhost:8080/"
        },
        "outputId": "de1e7642-953e-4a3e-f849-8b4464f17b87"
      },
      "outputs": [
        {
          "output_type": "execute_result",
          "data": {
            "text/plain": [
              "{'memory': None,\n",
              " 'steps': [('standardscaler', StandardScaler()),\n",
              "  ('kneighborsclassifier', KNeighborsClassifier())],\n",
              " 'verbose': False,\n",
              " 'standardscaler': StandardScaler(),\n",
              " 'kneighborsclassifier': KNeighborsClassifier(),\n",
              " 'standardscaler__copy': True,\n",
              " 'standardscaler__with_mean': True,\n",
              " 'standardscaler__with_std': True,\n",
              " 'kneighborsclassifier__algorithm': 'auto',\n",
              " 'kneighborsclassifier__leaf_size': 30,\n",
              " 'kneighborsclassifier__metric': 'minkowski',\n",
              " 'kneighborsclassifier__metric_params': None,\n",
              " 'kneighborsclassifier__n_jobs': None,\n",
              " 'kneighborsclassifier__n_neighbors': 5,\n",
              " 'kneighborsclassifier__p': 2,\n",
              " 'kneighborsclassifier__weights': 'uniform'}"
            ]
          },
          "metadata": {},
          "execution_count": 16
        }
      ],
      "source": [
        "knn_orig_pipe.get_params()"
      ]
    },
    {
      "cell_type": "markdown",
      "metadata": {
        "id": "sXqynJv2mRqG"
      },
      "source": [
        "#### Create a parameter grid dictionary"
      ]
    },
    {
      "cell_type": "code",
      "execution_count": 17,
      "metadata": {
        "id": "CeBaja5JmZJB"
      },
      "outputs": [],
      "source": [
        "pipe_param_grid2 = {'kneighborsclassifier__n_neighbors': [1, 3, 5, 7],\n",
        "              'kneighborsclassifier__weights': ['distance','uniform']}"
      ]
    },
    {
      "cell_type": "markdown",
      "metadata": {
        "id": "izZmhLBwmbwc"
      },
      "source": [
        "#### Instantiate the GridSearchCV Class."
      ]
    },
    {
      "cell_type": "code",
      "execution_count": 18,
      "metadata": {
        "id": "hgqEnBoHmkFy"
      },
      "outputs": [],
      "source": [
        "knn_orig_pipe_gs = GridSearchCV(knn_orig_pipe, pipe_param_grid2)"
      ]
    },
    {
      "cell_type": "markdown",
      "metadata": {
        "id": "oioIeHEFmrdK"
      },
      "source": [
        "#### Fit the GridSearchCV on the Training Data."
      ]
    },
    {
      "cell_type": "code",
      "execution_count": 19,
      "metadata": {
        "id": "Q8LfGgMPmu-6",
        "colab": {
          "base_uri": "https://localhost:8080/",
          "height": 163
        },
        "outputId": "ada5c388-21ae-4517-ab4d-4511650cdcda"
      },
      "outputs": [
        {
          "output_type": "stream",
          "name": "stdout",
          "text": [
            "CPU times: user 28min 41s, sys: 1min 54s, total: 30min 35s\n",
            "Wall time: 19min 35s\n"
          ]
        },
        {
          "output_type": "execute_result",
          "data": {
            "text/plain": [
              "GridSearchCV(estimator=Pipeline(steps=[('standardscaler', StandardScaler()),\n",
              "                                       ('kneighborsclassifier',\n",
              "                                        KNeighborsClassifier())]),\n",
              "             param_grid={'kneighborsclassifier__n_neighbors': [1, 3, 5, 7],\n",
              "                         'kneighborsclassifier__weights': ['distance',\n",
              "                                                           'uniform']})"
            ],
            "text/html": [
              "<style>#sk-1ef3b4b0-b490-414e-a721-fdac6670cefb {color: black;background-color: white;}#sk-1ef3b4b0-b490-414e-a721-fdac6670cefb pre{padding: 0;}#sk-1ef3b4b0-b490-414e-a721-fdac6670cefb div.sk-toggleable {background-color: white;}#sk-1ef3b4b0-b490-414e-a721-fdac6670cefb label.sk-toggleable__label {cursor: pointer;display: block;width: 100%;margin-bottom: 0;padding: 0.3em;box-sizing: border-box;text-align: center;}#sk-1ef3b4b0-b490-414e-a721-fdac6670cefb label.sk-toggleable__label-arrow:before {content: \"▸\";float: left;margin-right: 0.25em;color: #696969;}#sk-1ef3b4b0-b490-414e-a721-fdac6670cefb label.sk-toggleable__label-arrow:hover:before {color: black;}#sk-1ef3b4b0-b490-414e-a721-fdac6670cefb div.sk-estimator:hover label.sk-toggleable__label-arrow:before {color: black;}#sk-1ef3b4b0-b490-414e-a721-fdac6670cefb div.sk-toggleable__content {max-height: 0;max-width: 0;overflow: hidden;text-align: left;background-color: #f0f8ff;}#sk-1ef3b4b0-b490-414e-a721-fdac6670cefb div.sk-toggleable__content pre {margin: 0.2em;color: black;border-radius: 0.25em;background-color: #f0f8ff;}#sk-1ef3b4b0-b490-414e-a721-fdac6670cefb input.sk-toggleable__control:checked~div.sk-toggleable__content {max-height: 200px;max-width: 100%;overflow: auto;}#sk-1ef3b4b0-b490-414e-a721-fdac6670cefb input.sk-toggleable__control:checked~label.sk-toggleable__label-arrow:before {content: \"▾\";}#sk-1ef3b4b0-b490-414e-a721-fdac6670cefb div.sk-estimator input.sk-toggleable__control:checked~label.sk-toggleable__label {background-color: #d4ebff;}#sk-1ef3b4b0-b490-414e-a721-fdac6670cefb div.sk-label input.sk-toggleable__control:checked~label.sk-toggleable__label {background-color: #d4ebff;}#sk-1ef3b4b0-b490-414e-a721-fdac6670cefb input.sk-hidden--visually {border: 0;clip: rect(1px 1px 1px 1px);clip: rect(1px, 1px, 1px, 1px);height: 1px;margin: -1px;overflow: hidden;padding: 0;position: absolute;width: 1px;}#sk-1ef3b4b0-b490-414e-a721-fdac6670cefb div.sk-estimator {font-family: monospace;background-color: #f0f8ff;border: 1px dotted black;border-radius: 0.25em;box-sizing: border-box;margin-bottom: 0.5em;}#sk-1ef3b4b0-b490-414e-a721-fdac6670cefb div.sk-estimator:hover {background-color: #d4ebff;}#sk-1ef3b4b0-b490-414e-a721-fdac6670cefb div.sk-parallel-item::after {content: \"\";width: 100%;border-bottom: 1px solid gray;flex-grow: 1;}#sk-1ef3b4b0-b490-414e-a721-fdac6670cefb div.sk-label:hover label.sk-toggleable__label {background-color: #d4ebff;}#sk-1ef3b4b0-b490-414e-a721-fdac6670cefb div.sk-serial::before {content: \"\";position: absolute;border-left: 1px solid gray;box-sizing: border-box;top: 2em;bottom: 0;left: 50%;}#sk-1ef3b4b0-b490-414e-a721-fdac6670cefb div.sk-serial {display: flex;flex-direction: column;align-items: center;background-color: white;padding-right: 0.2em;padding-left: 0.2em;}#sk-1ef3b4b0-b490-414e-a721-fdac6670cefb div.sk-item {z-index: 1;}#sk-1ef3b4b0-b490-414e-a721-fdac6670cefb div.sk-parallel {display: flex;align-items: stretch;justify-content: center;background-color: white;}#sk-1ef3b4b0-b490-414e-a721-fdac6670cefb div.sk-parallel::before {content: \"\";position: absolute;border-left: 1px solid gray;box-sizing: border-box;top: 2em;bottom: 0;left: 50%;}#sk-1ef3b4b0-b490-414e-a721-fdac6670cefb div.sk-parallel-item {display: flex;flex-direction: column;position: relative;background-color: white;}#sk-1ef3b4b0-b490-414e-a721-fdac6670cefb div.sk-parallel-item:first-child::after {align-self: flex-end;width: 50%;}#sk-1ef3b4b0-b490-414e-a721-fdac6670cefb div.sk-parallel-item:last-child::after {align-self: flex-start;width: 50%;}#sk-1ef3b4b0-b490-414e-a721-fdac6670cefb div.sk-parallel-item:only-child::after {width: 0;}#sk-1ef3b4b0-b490-414e-a721-fdac6670cefb div.sk-dashed-wrapped {border: 1px dashed gray;margin: 0 0.4em 0.5em 0.4em;box-sizing: border-box;padding-bottom: 0.4em;background-color: white;position: relative;}#sk-1ef3b4b0-b490-414e-a721-fdac6670cefb div.sk-label label {font-family: monospace;font-weight: bold;background-color: white;display: inline-block;line-height: 1.2em;}#sk-1ef3b4b0-b490-414e-a721-fdac6670cefb div.sk-label-container {position: relative;z-index: 2;text-align: center;}#sk-1ef3b4b0-b490-414e-a721-fdac6670cefb div.sk-container {/* jupyter's `normalize.less` sets `[hidden] { display: none; }` but bootstrap.min.css set `[hidden] { display: none !important; }` so we also need the `!important` here to be able to override the default hidden behavior on the sphinx rendered scikit-learn.org. See: https://github.com/scikit-learn/scikit-learn/issues/21755 */display: inline-block !important;position: relative;}#sk-1ef3b4b0-b490-414e-a721-fdac6670cefb div.sk-text-repr-fallback {display: none;}</style><div id=\"sk-1ef3b4b0-b490-414e-a721-fdac6670cefb\" class=\"sk-top-container\"><div class=\"sk-text-repr-fallback\"><pre>GridSearchCV(estimator=Pipeline(steps=[(&#x27;standardscaler&#x27;, StandardScaler()),\n",
              "                                       (&#x27;kneighborsclassifier&#x27;,\n",
              "                                        KNeighborsClassifier())]),\n",
              "             param_grid={&#x27;kneighborsclassifier__n_neighbors&#x27;: [1, 3, 5, 7],\n",
              "                         &#x27;kneighborsclassifier__weights&#x27;: [&#x27;distance&#x27;,\n",
              "                                                           &#x27;uniform&#x27;]})</pre><b>Please rerun this cell to show the HTML repr or trust the notebook.</b></div><div class=\"sk-container\" hidden><div class=\"sk-item sk-dashed-wrapped\"><div class=\"sk-label-container\"><div class=\"sk-label sk-toggleable\"><input class=\"sk-toggleable__control sk-hidden--visually\" id=\"3859d1a1-c305-4f1a-ba6a-7577265dc08e\" type=\"checkbox\" ><label for=\"3859d1a1-c305-4f1a-ba6a-7577265dc08e\" class=\"sk-toggleable__label sk-toggleable__label-arrow\">GridSearchCV</label><div class=\"sk-toggleable__content\"><pre>GridSearchCV(estimator=Pipeline(steps=[(&#x27;standardscaler&#x27;, StandardScaler()),\n",
              "                                       (&#x27;kneighborsclassifier&#x27;,\n",
              "                                        KNeighborsClassifier())]),\n",
              "             param_grid={&#x27;kneighborsclassifier__n_neighbors&#x27;: [1, 3, 5, 7],\n",
              "                         &#x27;kneighborsclassifier__weights&#x27;: [&#x27;distance&#x27;,\n",
              "                                                           &#x27;uniform&#x27;]})</pre></div></div></div><div class=\"sk-parallel\"><div class=\"sk-parallel-item\"><div class=\"sk-item\"><div class=\"sk-serial\"><div class=\"sk-item\"><div class=\"sk-serial\"><div class=\"sk-item\"><div class=\"sk-estimator sk-toggleable\"><input class=\"sk-toggleable__control sk-hidden--visually\" id=\"b4a8637a-43e3-4676-af36-09b581166d3c\" type=\"checkbox\" ><label for=\"b4a8637a-43e3-4676-af36-09b581166d3c\" class=\"sk-toggleable__label sk-toggleable__label-arrow\">StandardScaler</label><div class=\"sk-toggleable__content\"><pre>StandardScaler()</pre></div></div></div><div class=\"sk-item\"><div class=\"sk-estimator sk-toggleable\"><input class=\"sk-toggleable__control sk-hidden--visually\" id=\"7a059a62-9dd8-4816-a32b-3ba2f0fabd9d\" type=\"checkbox\" ><label for=\"7a059a62-9dd8-4816-a32b-3ba2f0fabd9d\" class=\"sk-toggleable__label sk-toggleable__label-arrow\">KNeighborsClassifier</label><div class=\"sk-toggleable__content\"><pre>KNeighborsClassifier()</pre></div></div></div></div></div></div></div></div></div></div></div></div>"
            ]
          },
          "metadata": {},
          "execution_count": 19
        }
      ],
      "source": [
        "%%time\n",
        "knn_orig_pipe_gs.fit(X_train, y_train)"
      ]
    },
    {
      "cell_type": "markdown",
      "metadata": {
        "id": "hB74F9vbm0Yw"
      },
      "source": [
        "#### Find the best parameters"
      ]
    },
    {
      "cell_type": "code",
      "execution_count": 20,
      "metadata": {
        "id": "bkGmUWX2m38n",
        "colab": {
          "base_uri": "https://localhost:8080/"
        },
        "outputId": "f9b96c6d-1b2d-4e31-c369-c394cbe2f21c"
      },
      "outputs": [
        {
          "output_type": "stream",
          "name": "stdout",
          "text": [
            "Best KNN Parameters:\n",
            "{'kneighborsclassifier__n_neighbors': 3, 'kneighborsclassifier__weights': 'distance'}\n",
            "Accuracy of best KNN model is: 0.9466857142857142\n"
          ]
        }
      ],
      "source": [
        "print('Best KNN Parameters:')\n",
        "print(knn_orig_pipe_gs.best_params_)\n",
        "best_knn_orig_pipe = knn_orig_pipe_gs.best_estimator_\n",
        "print(f'Accuracy of best KNN model is: {best_knn_orig_pipe.score(X_test, y_test)}')"
      ]
    },
    {
      "cell_type": "markdown",
      "metadata": {
        "id": "Vnw_JNs-nDc0"
      },
      "source": [
        "### Final tuned KNN Model using original data"
      ]
    },
    {
      "cell_type": "code",
      "execution_count": 21,
      "metadata": {
        "id": "ELRFvJz6nKiN",
        "colab": {
          "base_uri": "https://localhost:8080/"
        },
        "outputId": "1a6026ca-6c44-411e-ed46-068364e7ec28"
      },
      "outputs": [
        {
          "output_type": "stream",
          "name": "stdout",
          "text": [
            "CPU times: user 1min 25s, sys: 5.7 s, total: 1min 31s\n",
            "Wall time: 58.8 s\n"
          ]
        }
      ],
      "source": [
        "%%time\n",
        "knn_orig_tuned = KNeighborsClassifier(n_neighbors = 3, weights = 'distance')\n",
        "knn_orig_tuned_pipe = make_pipeline(scaler, knn_orig_tuned)\n",
        "knn_orig_tuned_pipe.fit(X_train, y_train)\n",
        "test_preds_knn_orig_tuned = knn_orig_tuned_pipe.predict(X_test)"
      ]
    },
    {
      "cell_type": "markdown",
      "metadata": {
        "id": "tU95teF5Grol"
      },
      "source": [
        "## Evaluate and compare the models"
      ]
    },
    {
      "cell_type": "code",
      "execution_count": 22,
      "metadata": {
        "id": "GMZR0gadUecl",
        "colab": {
          "base_uri": "https://localhost:8080/"
        },
        "outputId": "e36c5297-562a-44d8-dfec-64ff31b4ac2e"
      },
      "outputs": [
        {
          "output_type": "stream",
          "name": "stdout",
          "text": [
            "KNN Classification Report for Testing Data Using PCA Transformation\n",
            "              precision    recall  f1-score   support\n",
            "\n",
            "           0       0.97      0.98      0.97      1714\n",
            "           1       0.96      0.99      0.97      1977\n",
            "           2       0.96      0.93      0.94      1761\n",
            "           3       0.94      0.94      0.94      1806\n",
            "           4       0.95      0.94      0.94      1587\n",
            "           5       0.94      0.93      0.94      1607\n",
            "           6       0.96      0.98      0.97      1761\n",
            "           7       0.93      0.93      0.93      1878\n",
            "           8       0.96      0.91      0.93      1657\n",
            "           9       0.90      0.92      0.91      1752\n",
            "\n",
            "    accuracy                           0.95     17500\n",
            "   macro avg       0.95      0.95      0.95     17500\n",
            "weighted avg       0.95      0.95      0.95     17500\n",
            "\n",
            "KNN Classification Report for Testing Data Without PCA Transformation\n",
            "              precision    recall  f1-score   support\n",
            "\n",
            "           0       0.97      0.98      0.97      1714\n",
            "           1       0.96      0.99      0.97      1977\n",
            "           2       0.96      0.93      0.94      1761\n",
            "           3       0.94      0.94      0.94      1806\n",
            "           4       0.95      0.94      0.94      1587\n",
            "           5       0.94      0.93      0.94      1607\n",
            "           6       0.96      0.98      0.97      1761\n",
            "           7       0.93      0.93      0.93      1878\n",
            "           8       0.96      0.91      0.93      1657\n",
            "           9       0.90      0.92      0.91      1752\n",
            "\n",
            "    accuracy                           0.95     17500\n",
            "   macro avg       0.95      0.95      0.95     17500\n",
            "weighted avg       0.95      0.95      0.95     17500\n",
            "\n"
          ]
        }
      ],
      "source": [
        "#print classification reports for the testing data\n",
        "print('KNN Classification Report for Testing Data Using PCA Transformation')\n",
        "print(classification_report(y_test, test_preds_knn_pca_tuned))\n",
        "print('KNN Classification Report for Testing Data Without PCA Transformation')\n",
        "print(classification_report(y_test, test_preds_knn_orig_tuned))"
      ]
    },
    {
      "cell_type": "markdown",
      "metadata": {
        "id": "hYMcgoqwGvm_"
      },
      "source": [
        "## Which model performed the best on the test set?"
      ]
    },
    {
      "cell_type": "markdown",
      "metadata": {
        "id": "E_P05EkoXbLm"
      },
      "source": [
        "  - Both KNN models (with the PCA-transformed data performed the same on the test set.  They were 95% accurate for making correct predictions.  The macro average precision (specificity) was 95%, the macro average recall (sensitivity) was 95%, and the macro average f1-score was 95%.\n"
      ]
    },
    {
      "cell_type": "markdown",
      "metadata": {
        "id": "e6S2UVymG0kc"
      },
      "source": [
        "## Which model was the fastest at making predictions?"
      ]
    },
    {
      "cell_type": "markdown",
      "source": [
        "  - The KNN model with the original data was faster at fitting and making predictions. The total CPU time was 1 minute, 31 seconds, which was 1 second faster than the KNN model with the PCA-transformed data."
      ],
      "metadata": {
        "id": "VyTDL9LdKF9G"
      }
    },
    {
      "cell_type": "code",
      "execution_count": 25,
      "metadata": {
        "id": "3iuSaY9pFDIV",
        "colab": {
          "base_uri": "https://localhost:8080/"
        },
        "outputId": "dd7b6500-0504-4ec3-ef81-a9fa8aa90acd"
      },
      "outputs": [
        {
          "output_type": "stream",
          "name": "stdout",
          "text": [
            "CPU times: user 1min 26s, sys: 6.39 s, total: 1min 32s\n",
            "Wall time: 1min 9s\n"
          ]
        }
      ],
      "source": [
        "%%time\n",
        "test_preds_knn_pca_tuned = knn_pca_tuned_pipe.predict(X_test)"
      ]
    },
    {
      "cell_type": "code",
      "source": [
        "%%time\n",
        "test_preds_knn_orig_tuned = knn_orig_tuned_pipe.predict(X_test)"
      ],
      "metadata": {
        "id": "Yfm77a__KNKi",
        "colab": {
          "base_uri": "https://localhost:8080/"
        },
        "outputId": "31bf5bd2-30a3-42c0-d57e-ae8b1edf6929"
      },
      "execution_count": 26,
      "outputs": [
        {
          "output_type": "stream",
          "name": "stdout",
          "text": [
            "CPU times: user 1min 24s, sys: 5.85 s, total: 1min 30s\n",
            "Wall time: 57.8 s\n"
          ]
        }
      ]
    },
    {
      "cell_type": "markdown",
      "source": [
        "  - The KNN model with the original data was 2 seconds faster at making predictions than the KNN model with the PCA-transformed data."
      ],
      "metadata": {
        "id": "LizBAf_iKPx_"
      }
    },
    {
      "cell_type": "code",
      "source": [],
      "metadata": {
        "id": "H8gzB3-TW__P"
      },
      "execution_count": 24,
      "outputs": []
    }
  ],
  "metadata": {
    "colab": {
      "provenance": [],
      "authorship_tag": "ABX9TyN/5HZKNTd1+7d4ncjwD2g1",
      "include_colab_link": true
    },
    "kernelspec": {
      "display_name": "Python 3",
      "name": "python3"
    },
    "language_info": {
      "name": "python"
    }
  },
  "nbformat": 4,
  "nbformat_minor": 0
}